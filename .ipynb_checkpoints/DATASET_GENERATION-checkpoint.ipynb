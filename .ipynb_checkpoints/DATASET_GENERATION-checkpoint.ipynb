{
 "cells": [
  {
   "cell_type": "code",
   "execution_count": 27,
   "metadata": {},
   "outputs": [
    {
     "name": "stdout",
     "output_type": "stream",
     "text": [
      "[69, 51, 90, 72, 48, 57, 84, 75, 51, 87, 48, 81, 84, 45, 63, 72, 78, 54, 72, 87, 54, 51, 81, 78, 66, 69, 72, 48, 57, 90, 63, 66, 81, 60, 87, 84, 75, 54, 72, 90, 69, 54, 57, 48, 63, 87, 45, 57, 60, 54, 90, 69, 45, 87, 84, 45, 81, 72, 75, 57, 66, 48, 45, 48, 54, 90, 57, 60, 72, 63, 48, 90, 84, 90, 69, 45, 57, 90, 78, 78, 90, 69, 87, 69, 51, 51, 51, 84, 84, 48, 81, 84, 72, 45, 54, 48, 72, 45, 54, 69]\n"
     ]
    }
   ],
   "source": [
    "import random \n",
    "weight = []\n",
    "\n",
    "for i in range (0,100):\n",
    "    weight.append(random.randint(15,30)*3)\n",
    "    \n",
    "print(weight)    "
   ]
  },
  {
   "cell_type": "code",
   "execution_count": 28,
   "metadata": {},
   "outputs": [
    {
     "name": "stdout",
     "output_type": "stream",
     "text": [
      "[124.92, 105.67, 124.53, 119.34, 101.56, 125.13, 117.99, 121.38, 109.27, 121.68, 128.22, 110.45, 107.78, 103.5, 117.67, 107.75, 115.84, 113.29, 124.42, 117.72, 111.19, 126.95, 100.76, 101.28, 129.87, 121.92, 102.46, 118.97, 121.74, 117.06, 119.78, 125.79, 110.13, 109.63, 124.09, 121.58, 115.16, 123.27, 118.78, 114.05, 118.41, 104.67, 116.26, 127.19, 106.32, 111.65, 115.43, 129.49, 128.9, 127.94, 121.25, 117.49, 127.35, 111.52, 111.37, 111.14, 116.52, 118.79, 113.69, 125.16, 117.49, 125.99, 109.25, 101.11, 121.4, 105.17, 105.74, 105.99, 123.34, 110.63, 116.58, 121.32, 103.44, 110.63, 112.56, 121.47, 108.49, 106.87, 106.08, 117.1, 115.16, 107.83, 101.34, 112.94, 123.48, 127.39, 129.39, 117.72, 101.19, 126.68, 100.05, 114.02, 120.87, 106.99, 100.69, 105.37, 126.79, 129.27, 112.35, 118.95]\n"
     ]
    }
   ],
   "source": [
    "ankle_size = []\n",
    "for i in range (0,100):\n",
    "    ankle_size.append(float(\"{0:.2f}\".format(random.uniform(100,130))))\n",
    "print(ankle_size)                    "
   ]
  },
  {
   "cell_type": "code",
   "execution_count": 30,
   "metadata": {},
   "outputs": [
    {
     "name": "stdout",
     "output_type": "stream",
     "text": [
      "[0.02, 0.35, 0.36, 0.96, 0.19, 0.11, 0.88, 0.52, 0.58, 0.5, 0.39, 0.37, 0.79, 0.44, 0.87, 0.64, 0.14, 0.81, 0.04, 0.13, 0.67, 0.15, 0.47, 0.44, 0.75, 0.92, 0.02, 0.21, 0.17, 0.23, 0.89, 0.99, 0.45, 0.44, 0.85, 0.02, 0.55, 0.92, 0.11, 0.93, 0.01, 0.48, 0.2, 0.52, 0.2, 0.32, 0.57, 0.74, 0.09, 0.83, 0.72, 0.58, 0.61, 0.73, 0.85, 0.15, 0.02, 0.25, 0.43, 0.16, 0.42, 0.85, 0.74, 0.14, 0.66, 0.17, 0.98, 0.03, 0.08, 0.13, 0.03, 0.79, 0.87, 0.08, 0.55, 0.14, 0.96, 0.29, 0.79, 0.01, 0.88, 0.85, 0.38, 0.1, 0.82, 0.94, 0.8, 0.49, 0.36, 0.69, 0.32, 0.97, 0.48, 0.6, 0.01, 0.56, 0.88, 0.8, 0.53, 0.62]\n"
     ]
    }
   ],
   "source": [
    "parameter = []\n",
    "\n",
    "for i in range (0,100):\n",
    "    parameter.append(float(\"{0:.2f}\".format(random.random())))\n",
    "    \n",
    "print(parameter)    \n"
   ]
  },
  {
   "cell_type": "code",
   "execution_count": 31,
   "metadata": {},
   "outputs": [
    {
     "name": "stdout",
     "output_type": "stream",
     "text": [
      "[[69, 124.92, 0.02], [51, 105.67, 0.35], [90, 124.53, 0.36], [72, 119.34, 0.96], [48, 101.56, 0.19], [57, 125.13, 0.11], [84, 117.99, 0.88], [75, 121.38, 0.52], [51, 109.27, 0.58], [87, 121.68, 0.5], [48, 128.22, 0.39], [81, 110.45, 0.37], [84, 107.78, 0.79], [45, 103.5, 0.44], [63, 117.67, 0.87], [72, 107.75, 0.64], [78, 115.84, 0.14], [54, 113.29, 0.81], [72, 124.42, 0.04], [87, 117.72, 0.13], [54, 111.19, 0.67], [51, 126.95, 0.15], [81, 100.76, 0.47], [78, 101.28, 0.44], [66, 129.87, 0.75], [69, 121.92, 0.92], [72, 102.46, 0.02], [48, 118.97, 0.21], [57, 121.74, 0.17], [90, 117.06, 0.23], [63, 119.78, 0.89], [66, 125.79, 0.99], [81, 110.13, 0.45], [60, 109.63, 0.44], [87, 124.09, 0.85], [84, 121.58, 0.02], [75, 115.16, 0.55], [54, 123.27, 0.92], [72, 118.78, 0.11], [90, 114.05, 0.93], [69, 118.41, 0.01], [54, 104.67, 0.48], [57, 116.26, 0.2], [48, 127.19, 0.52], [63, 106.32, 0.2], [87, 111.65, 0.32], [45, 115.43, 0.57], [57, 129.49, 0.74], [60, 128.9, 0.09], [54, 127.94, 0.83], [90, 121.25, 0.72], [69, 117.49, 0.58], [45, 127.35, 0.61], [87, 111.52, 0.73], [84, 111.37, 0.85], [45, 111.14, 0.15], [81, 116.52, 0.02], [72, 118.79, 0.25], [75, 113.69, 0.43], [57, 125.16, 0.16], [66, 117.49, 0.42], [48, 125.99, 0.85], [45, 109.25, 0.74], [48, 101.11, 0.14], [54, 121.4, 0.66], [90, 105.17, 0.17], [57, 105.74, 0.98], [60, 105.99, 0.03], [72, 123.34, 0.08], [63, 110.63, 0.13], [48, 116.58, 0.03], [90, 121.32, 0.79], [84, 103.44, 0.87], [90, 110.63, 0.08], [69, 112.56, 0.55], [45, 121.47, 0.14], [57, 108.49, 0.96], [90, 106.87, 0.29], [78, 106.08, 0.79], [78, 117.1, 0.01], [90, 115.16, 0.88], [69, 107.83, 0.85], [87, 101.34, 0.38], [69, 112.94, 0.1], [51, 123.48, 0.82], [51, 127.39, 0.94], [51, 129.39, 0.8], [84, 117.72, 0.49], [84, 101.19, 0.36], [48, 126.68, 0.69], [81, 100.05, 0.32], [84, 114.02, 0.97], [72, 120.87, 0.48], [45, 106.99, 0.6], [54, 100.69, 0.01], [48, 105.37, 0.56], [72, 126.79, 0.88], [45, 129.27, 0.8], [54, 112.35, 0.53], [69, 118.95, 0.62]]\n"
     ]
    }
   ],
   "source": [
    "dataset = []\n",
    "\n",
    "for i in range(0,100):\n",
    "    temp = []\n",
    "    temp.append(weight[i])\n",
    "    temp.append(ankle_size[i])\n",
    "    temp.append(parameter[i])\n",
    "    dataset.append(temp)\n",
    "    \n",
    "print(dataset)    "
   ]
  },
  {
   "cell_type": "code",
   "execution_count": 38,
   "metadata": {},
   "outputs": [
    {
     "data": {
      "image/png": "[encoded data removed]",
      "text/plain": [
       "<matplotlib.figure.Figure at 0x7f8ca57b5ac8>"
      ]
     },
     "metadata": {},
     "output_type": "display_data"
    }
   ],
   "source": [
    "import matplotlib.pyplot as plt\n",
    "\n",
    "plt.scatter(weight,ankle_size)\n",
    "plt.show()"
   ]
  },
  {
   "cell_type": "code",
   "execution_count": 49,
   "metadata": {},
   "outputs": [],
   "source": [
    "import csv\n",
    "\n",
    "dataset_with_headers = [[\"weight\",\"ankle_size\",\"parameter\"]]\n",
    "for i in range(0,100):\n",
    "    temp = []\n",
    "    temp.append(weight[i])\n",
    "    temp.append(ankle_size[i])\n",
    "    temp.append(parameter[i])\n",
    "    dataset_with_headers.append(temp)\n",
    "\n",
    "with open(\"output.csv\", \"w\") as f:\n",
    "    writer = csv.writer(f)\n",
    "    writer.writerows(dataset_with_headers)"
   ]
  },
  {
   "cell_type": "code",
   "execution_count": null,
   "metadata": {
    "collapsed": true
   },
   "outputs": [],
   "source": []
  }
 ],
 "metadata": {
  "kernelspec": {
   "display_name": "Python 3",
   "language": "python",
   "name": "python3"
  },
  "language_info": {
   "codemirror_mode": {
    "name": "ipython",
    "version": 3
   },
   "file_extension": ".py",
   "mimetype": "text/x-python",
   "name": "python",
   "nbconvert_exporter": "python",
   "pygments_lexer": "ipython3",
   "version": "3.6.1"
  }
 },
 "nbformat": 4,
 "nbformat_minor": 2
}
