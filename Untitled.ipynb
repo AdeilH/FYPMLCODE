{
 "cells": [
  {
   "cell_type": "code",
   "execution_count": 9,
   "metadata": {
    "collapsed": true
   },
   "outputs": [],
   "source": [
    "from sklearn.neighbors import KNeighborsClassifier\n",
    "import csv\n",
    "import numpy as np\n",
    "with open(\"output.csv\") as f:\n",
    "    reader = csv.reader(f)\n",
    "    your_list = list(reader)\n",
    "f.close()\n",
    "list_without_header = your_list[1:]\n"
   ]
  },
  {
   "cell_type": "code",
   "execution_count": 10,
   "metadata": {
    "collapsed": true
   },
   "outputs": [],
   "source": [
    "x = []\n",
    "for i in range(len(list_without_header)):\n",
    "    x.append(list_without_header[i][0])\n",
    "    \n",
    "x = list(map(int, x))\n",
    "\n",
    "x = np.array(x)\n"
   ]
  },
  {
   "cell_type": "code",
   "execution_count": 11,
   "metadata": {
    "collapsed": true
   },
   "outputs": [],
   "source": [
    "y = []\n",
    "for i in range(len(list_without_header)):\n",
    "    y.append(list_without_header[i][1])\n",
    "    \n",
    "y = list(map(float, y))\n",
    "\n",
    "y= np.array(y)\n"
   ]
  },
  {
   "cell_type": "code",
   "execution_count": 12,
   "metadata": {
    "collapsed": true
   },
   "outputs": [],
   "source": [
    "label = []\n",
    "\n",
    "for i in range(len(list_without_header)):\n",
    "    label.append(list_without_header[i][2])\n",
    "\n",
    "label = list(map(float, y ))\n",
    "\n",
    "label = np.array(label)"
   ]
  },
  {
   "cell_type": "code",
   "execution_count": 13,
   "metadata": {
    "collapsed": true
   },
   "outputs": [],
   "source": [
    "points = []\n",
    "\n",
    "for i in range(0,100):\n",
    "    temp = []\n",
    "    temp.append(x[i])\n",
    "    temp.append(y[i])\n",
    "    points.append(temp)\n",
    "points = np.array(points)\n"
   ]
  },
  {
   "cell_type": "code",
   "execution_count": 20,
   "metadata": {},
   "outputs": [
    {
     "data": {
      "text/plain": [
       "array([106, 104, 128, 119, 113, 108, 101, 112, 108, 109, 116, 126, 129,\n",
       "       100, 106, 104, 107, 118, 117, 109])"
      ]
     },
     "execution_count": 20,
     "metadata": {},
     "output_type": "execute_result"
    }
   ],
   "source": [
    "#Testing Set\n",
    "from sklearn.neighbors import KNeighborsClassifier\n",
    "training_set = points [:20]\n",
    "label_train = label [:20]\n",
    "X_train = np.array(training_set)\n",
    "y_train = np.array(label_train)\n",
    "testing_set = points [21:41]\n",
    "label_test = label [21:41]\n",
    "X_test = np.array(training_set)\n",
    "y_test = np.array(label_test)\n",
    "X_train = X_train.astype(int)\n",
    "y_train = y_train.astype(int)\n",
    "X_test = X_test.astype(int)\n",
    "y_test = y_test.astype(int)\n",
    "X_test\n",
    "y_test\n"
   ]
  },
  {
   "cell_type": "code",
   "execution_count": 21,
   "metadata": {},
   "outputs": [
    {
     "name": "stdout",
     "output_type": "stream",
     "text": [
      "KNN score:0.050000\n",
      "58\n",
      "112\n"
     ]
    },
    {
     "data": {
      "text/plain": [
       "array([105])"
      ]
     },
     "execution_count": 21,
     "metadata": {},
     "output_type": "execute_result"
    }
   ],
   "source": [
    "from sklearn import neighbors\n",
    "knn = neighbors.KNeighborsClassifier()\n",
    "print('KNN score:%f' % knn.fit(X_train, y_train).score(X_test, y_test))\n",
    "a = int(input())\n",
    "b = int(input())\n",
    "\n",
    "knn.predict([[a,b]])\n"
   ]
  },
  {
   "cell_type": "code",
   "execution_count": null,
   "metadata": {
    "collapsed": true
   },
   "outputs": [],
   "source": []
  },
  {
   "cell_type": "code",
   "execution_count": null,
   "metadata": {
    "collapsed": true
   },
   "outputs": [],
   "source": []
  }
 ],
 "metadata": {
  "kernelspec": {
   "display_name": "Python 3",
   "language": "python",
   "name": "python3"
  },
  "language_info": {
   "codemirror_mode": {
    "name": "ipython",
    "version": 3
   },
   "file_extension": ".py",
   "mimetype": "text/x-python",
   "name": "python",
   "nbconvert_exporter": "python",
   "pygments_lexer": "ipython3",
   "version": "3.6.3"
  }
 },
 "nbformat": 4,
 "nbformat_minor": 2
}
